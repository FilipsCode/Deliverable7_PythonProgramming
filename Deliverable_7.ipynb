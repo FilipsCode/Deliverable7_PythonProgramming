{
  "nbformat": 4,
  "nbformat_minor": 0,
  "metadata": {
    "colab": {
      "provenance": []
    },
    "kernelspec": {
      "name": "python3",
      "display_name": "Python 3"
    },
    "language_info": {
      "name": "python"
    }
  },
  "cells": [
    {
      "cell_type": "code",
      "source": [
        "import pandas as pd\n",
        "n = int(input(\"Enter an non-negative integer number: \"))\n",
        "\n",
        "even = []\n",
        "odd = []\n",
        "fibo = [0,1]\n",
        "\n",
        "for i in range(n):\n",
        "  even.append(2*i)\n",
        "  odd.append(2*i+1)\n",
        "  if i > 1: fibo.append(fibo[i-2]+fibo[i-1])\n",
        "\n",
        "odd\n",
        "[1, 3, 5, 7, 9, 11, 13, 15, 17, 19]\n",
        "even\n",
        "[0, 2, 4, 6, 8, 10, 12, 14, 16, 18]\n",
        "fibo\n",
        "[0, 1, 1, 2, 3, 5, 8, 13, 21, 34]\n",
        "len(even) == len(odd) == len(fibo)\n",
        "True\n",
        "\n",
        "print(\"-\"*37)\n",
        "print(\"|{:^5}|{:^8}|{:^8}|{:^12}|\".format(\"\",\"Even\",\"Odd\",\"Fibonacci\"))\n",
        "print(\"-\"*37)\n",
        "\n",
        "for index in range(n):\n",
        "        print(\"|{:^5}|{:^8}|{:^8}|{:^12}|\".format(index,even[index],odd[index],fibo[index]))\n",
        "        print(\"-\"*37)"
      ],
      "metadata": {
        "colab": {
          "base_uri": "https://localhost:8080/"
        },
        "id": "Gg6kGuo_wOy5",
        "outputId": "e2101a7c-ccce-43ea-b973-f23c121eb182"
      },
      "execution_count": 5,
      "outputs": [
        {
          "output_type": "stream",
          "name": "stdout",
          "text": [
            "Enter an non-negative integer number: 4\n",
            "-------------------------------------\n",
            "|     |  Even  |  Odd   | Fibonacci  |\n",
            "-------------------------------------\n",
            "|  0  |   0    |   1    |     0      |\n",
            "-------------------------------------\n",
            "|  1  |   2    |   3    |     1      |\n",
            "-------------------------------------\n",
            "|  2  |   4    |   5    |     1      |\n",
            "-------------------------------------\n",
            "|  3  |   6    |   7    |     2      |\n",
            "-------------------------------------\n"
          ]
        }
      ]
    }
  ]
}